{
 "cells": [
  {
   "cell_type": "markdown",
   "metadata": {
    "collapsed": true
   },
   "source": [
    "# Image Classification\n",
    "In this project, you'll classify images from the [CIFAR-10 dataset](https://www.cs.toronto.edu/~kriz/cifar.html).  The dataset consists of airplanes, dogs, cats, and other objects. You'll preprocess the images, then train a convolutional neural network on all the samples. The images need to be normalized and the labels need to be one-hot encoded.  You'll get to apply what you learned and build a convolutional, max pooling, dropout, and fully connected layers.  At the end, you'll get to see your neural network's predictions on the sample images.\n",
    "## Get the Data\n",
    "Run the following cell to download the [CIFAR-10 dataset for python](https://www.cs.toronto.edu/~kriz/cifar-10-python.tar.gz)."
   ]
  },
  {
   "cell_type": "code",
   "execution_count": 20,
   "metadata": {},
   "outputs": [
    {
     "name": "stderr",
     "output_type": "stream",
     "text": [
      "CIFAR-10 Dataset: 171MB [04:12, 676KB/s]                                \n"
     ]
    },
    {
     "name": "stdout",
     "output_type": "stream",
     "text": [
      "All files found!\n"
     ]
    }
   ],
   "source": [
    "\"\"\"\n",
    "DON'T MODIFY ANYTHING IN THIS CELL THAT IS BELOW THIS LINE\n",
    "\"\"\"\n",
    "from urllib.request import urlretrieve\n",
    "from os.path import isfile, isdir\n",
    "from tqdm import tqdm\n",
    "import problem_unittests as tests\n",
    "import tarfile\n",
    "\n",
    "cifar10_dataset_folder_path = 'cifar-10-batches-py'\n",
    "\n",
    "# Use Floyd's cifar-10 dataset if present\n",
    "floyd_cifar10_location = '/input/cifar-10/python.tar.gz'\n",
    "if isfile(floyd_cifar10_location):\n",
    "    tar_gz_path = floyd_cifar10_location\n",
    "else:\n",
    "    tar_gz_path = 'cifar-10-python.tar.gz'\n",
    "\n",
    "class DLProgress(tqdm):\n",
    "    last_block = 0\n",
    "\n",
    "    def hook(self, block_num=1, block_size=1, total_size=None):\n",
    "        self.total = total_size\n",
    "        self.update((block_num - self.last_block) * block_size)\n",
    "        self.last_block = block_num\n",
    "\n",
    "if not isfile(tar_gz_path):\n",
    "    with DLProgress(unit='B', unit_scale=True, miniters=1, desc='CIFAR-10 Dataset') as pbar:\n",
    "        urlretrieve(\n",
    "            'https://www.cs.toronto.edu/~kriz/cifar-10-python.tar.gz',\n",
    "            tar_gz_path,\n",
    "            pbar.hook)\n",
    "\n",
    "if not isdir(cifar10_dataset_folder_path):\n",
    "    with tarfile.open(tar_gz_path) as tar:\n",
    "        tar.extractall()\n",
    "        tar.close()\n",
    "\n",
    "\n",
    "tests.test_folder_path(cifar10_dataset_folder_path)"
   ]
  },
  {
   "cell_type": "markdown",
   "metadata": {},
   "source": [
    "## Explore the Data\n",
    "The dataset is broken into batches to prevent your machine from running out of memory.  The CIFAR-10 dataset consists of 5 batches, named `data_batch_1`, `data_batch_2`, etc.. Each batch contains the labels and images that are one of the following:\n",
    "* airplane\n",
    "* automobile\n",
    "* bird\n",
    "* cat\n",
    "* deer\n",
    "* dog\n",
    "* frog\n",
    "* horse\n",
    "* ship\n",
    "* truck\n",
    "\n",
    "Understanding a dataset is part of making predictions on the data.  Play around with the code cell below by changing the `batch_id` and `sample_id`. The `batch_id` is the id for a batch (1-5). The `sample_id` is the id for a image and label pair in the batch.\n",
    "\n",
    "Ask yourself \"What are all possible labels?\", \"What is the range of values for the image data?\", \"Are the labels in order or random?\".  Answers to questions like these will help you preprocess the data and end up with better predictions."
   ]
  },
  {
   "cell_type": "code",
   "execution_count": 21,
   "metadata": {},
   "outputs": [
    {
     "name": "stdout",
     "output_type": "stream",
     "text": [
      "\n",
      "Stats of batch 2:\n",
      "Samples: 10000\n",
      "Label Counts: {0: 984, 1: 1007, 2: 1010, 3: 995, 4: 1010, 5: 988, 6: 1008, 7: 1026, 8: 987, 9: 985}\n",
      "First 20 Labels: [1, 6, 6, 8, 8, 3, 4, 6, 0, 6, 0, 3, 6, 6, 5, 4, 8, 3, 2, 6]\n",
      "\n",
      "Example of Image 1:\n",
      "Image - Min Value: 2 Max Value: 247\n",
      "Image - Shape: (32, 32, 3)\n",
      "Label - Label Id: 6 Name: frog\n"
     ]
    },
    {
     "data": {
      "image/png": "[encoded data removed]",
      "text/plain": [
       "<matplotlib.figure.Figure at 0x7f94608cb358>"
      ]
     },
     "metadata": {
      "image/png": {
       "height": 250,
       "width": 253
      }
     },
     "output_type": "display_data"
    }
   ],
   "source": [
    "%matplotlib inline\n",
    "%config InlineBackend.figure_format = 'retina'\n",
    "\n",
    "import helper\n",
    "import numpy as np\n",
    "\n",
    "# Explore the dataset\n",
    "batch_id = 2\n",
    "sample_id = 1\n",
    "helper.display_stats(cifar10_dataset_folder_path, batch_id, sample_id)"
   ]
  },
  {
   "cell_type": "markdown",
   "metadata": {},
   "source": [
    "## Implement Preprocess Functions\n",
    "### Normalize\n",
    "In the cell below, implement the `normalize` function to take in image data, `x`, and return it as a normalized Numpy array. The values should be in the range of 0 to 1, inclusive.  The return object should be the same shape as `x`."
   ]
  },
  {
   "cell_type": "code",
   "execution_count": 22,
   "metadata": {},
   "outputs": [
    {
     "name": "stdout",
     "output_type": "stream",
     "text": [
      "Tests Passed\n"
     ]
    }
   ],
   "source": [
    "def normalize(x):\n",
    "    \"\"\"\n",
    "    Normalize a list of sample image data in the range of 0 to 1\n",
    "    : x: List of image data.  The image shape is (32, 32, 3)\n",
    "    : return: Numpy array of normalize data\n",
    "    \"\"\"\n",
    "    # TODO: Implement Function\n",
    "    normalized = (x - np.min(x)) / (np.max(x) - np.min(x))\n",
    "    return normalized\n",
    "\n",
    "\n",
    "\"\"\"\n",
    "DON'T MODIFY ANYTHING IN THIS CELL THAT IS BELOW THIS LINE\n",
    "\"\"\"\n",
    "tests.test_normalize(normalize)"
   ]
  },
  {
   "cell_type": "markdown",
   "metadata": {},
   "source": [
    "### One-hot encode\n",
    "Just like the previous code cell, you'll be implementing a function for preprocessing.  This time, you'll implement the `one_hot_encode` function. The input, `x`, are a list of labels.  Implement the function to return the list of labels as One-Hot encoded Numpy array.  The possible values for labels are 0 to 9. The one-hot encoding function should return the same encoding for each value between each call to `one_hot_encode`.  Make sure to save the map of encodings outside the function.\n",
    "\n",
    "Hint: Don't reinvent the wheel."
   ]
  },
  {
   "cell_type": "code",
   "execution_count": 23,
   "metadata": {},
   "outputs": [
    {
     "name": "stdout",
     "output_type": "stream",
     "text": [
      "Tests Passed\n"
     ]
    }
   ],
   "source": [
    "def one_hot_encode(x):\n",
    "    \"\"\"\n",
    "    One hot encode a list of sample labels. Return a one-hot encoded vector for each label.\n",
    "    : x: List of sample Labels\n",
    "    : return: Numpy array of one-hot encoded labels\n",
    "    \"\"\"\n",
    "    # TODO: Implement Function\n",
    "    results = np.ndarray((len(x), 10))\n",
    "    \n",
    "    for i in range(len(x)):\n",
    "        results[i] = np.zeros(10)\n",
    "        results[i][x[i]] = 1\n",
    "    \n",
    "    return results\n",
    "\n",
    "\"\"\"\n",
    "DON'T MODIFY ANYTHING IN THIS CELL THAT IS BELOW THIS LINE\n",
    "\"\"\"\n",
    "tests.test_one_hot_encode(one_hot_encode)"
   ]
  },
  {
   "cell_type": "markdown",
   "metadata": {},
   "source": [
    "### Randomize Data\n",
    "As you saw from exploring the data above, the order of the samples are randomized.  It doesn't hurt to randomize it again, but you don't need to for this dataset."
   ]
  },
  {
   "cell_type": "markdown",
   "metadata": {},
   "source": [
    "## Preprocess all the data and save it\n",
    "Running the code cell below will preprocess all the CIFAR-10 data and save it to file. The code below also uses 10% of the training data for validation."
   ]
  },
  {
   "cell_type": "code",
   "execution_count": 24,
   "metadata": {
    "collapsed": true
   },
   "outputs": [],
   "source": [
    "\"\"\"\n",
    "DON'T MODIFY ANYTHING IN THIS CELL\n",
    "\"\"\"\n",
    "# Preprocess Training, Validation, and Testing Data\n",
    "helper.preprocess_and_save_data(cifar10_dataset_folder_path, normalize, one_hot_encode)"
   ]
  },
  {
   "cell_type": "markdown",
   "metadata": {},
   "source": [
    "# Check Point\n",
    "This is your first checkpoint.  If you ever decide to come back to this notebook or have to restart the notebook, you can start from here.  The preprocessed data has been saved to disk."
   ]
  },
  {
   "cell_type": "code",
   "execution_count": 25,
   "metadata": {
    "collapsed": true
   },
   "outputs": [],
   "source": [
    "\"\"\"\n",
    "DON'T MODIFY ANYTHING IN THIS CELL\n",
    "\"\"\"\n",
    "import pickle\n",
    "import problem_unittests as tests\n",
    "import helper\n",
    "\n",
    "# Load the Preprocessed Validation data\n",
    "valid_features, valid_labels = pickle.load(open('preprocess_validation.p', mode='rb'))"
   ]
  },
  {
   "cell_type": "markdown",
   "metadata": {},
   "source": [
    "## Build the network\n",
    "For the neural network, you'll build each layer into a function.  Most of the code you've seen has been outside of functions. To test your code more thoroughly, we require that you put each layer in a function.  This allows us to give you better feedback and test for simple mistakes using our unittests before you submit your project.\n",
    "\n",
    ">**Note:** If you're finding it hard to dedicate enough time for this course each week, we've provided a small shortcut to this part of the project. In the next couple of problems, you'll have the option to use classes from the [TensorFlow Layers](https://www.tensorflow.org/api_docs/python/tf/layers) or [TensorFlow Layers (contrib)](https://www.tensorflow.org/api_guides/python/contrib.layers) packages to build each layer, except the layers you build in the \"Convolutional and Max Pooling Layer\" section.  TF Layers is similar to Keras's and TFLearn's abstraction to layers, so it's easy to pickup.\n",
    "\n",
    ">However, if you would like to get the most out of this course, try to solve all the problems _without_ using anything from the TF Layers packages. You **can** still use classes from other packages that happen to have the same name as ones you find in TF Layers! For example, instead of using the TF Layers version of the `conv2d` class, [tf.layers.conv2d](https://www.tensorflow.org/api_docs/python/tf/layers/conv2d), you would want to use the TF Neural Network version of `conv2d`, [tf.nn.conv2d](https://www.tensorflow.org/api_docs/python/tf/nn/conv2d). \n",
    "\n",
    "Let's begin!\n",
    "\n",
    "### Input\n",
    "The neural network needs to read the image data, one-hot encoded labels, and dropout keep probability. Implement the following functions\n",
    "* Implement `neural_net_image_input`\n",
    " * Return a [TF Placeholder](https://www.tensorflow.org/api_docs/python/tf/placeholder)\n",
    " * Set the shape using `image_shape` with batch size set to `None`.\n",
    " * Name the TensorFlow placeholder \"x\" using the TensorFlow `name` parameter in the [TF Placeholder](https://www.tensorflow.org/api_docs/python/tf/placeholder).\n",
    "* Implement `neural_net_label_input`\n",
    " * Return a [TF Placeholder](https://www.tensorflow.org/api_docs/python/tf/placeholder)\n",
    " * Set the shape using `n_classes` with batch size set to `None`.\n",
    " * Name the TensorFlow placeholder \"y\" using the TensorFlow `name` parameter in the [TF Placeholder](https://www.tensorflow.org/api_docs/python/tf/placeholder).\n",
    "* Implement `neural_net_keep_prob_input`\n",
    " * Return a [TF Placeholder](https://www.tensorflow.org/api_docs/python/tf/placeholder) for dropout keep probability.\n",
    " * Name the TensorFlow placeholder \"keep_prob\" using the TensorFlow `name` parameter in the [TF Placeholder](https://www.tensorflow.org/api_docs/python/tf/placeholder).\n",
    "\n",
    "These names will be used at the end of the project to load your saved model.\n",
    "\n",
    "Note: `None` for shapes in TensorFlow allow for a dynamic size."
   ]
  },
  {
   "cell_type": "code",
   "execution_count": 26,
   "metadata": {},
   "outputs": [
    {
     "name": "stdout",
     "output_type": "stream",
     "text": [
      "Image Input Tests Passed.\n",
      "Label Input Tests Passed.\n",
      "Keep Prob Tests Passed.\n"
     ]
    }
   ],
   "source": [
    "import tensorflow as tf\n",
    "\n",
    "def neural_net_image_input(image_shape):\n",
    "    \"\"\"\n",
    "    Return a Tensor for a batch of image input\n",
    "    : image_shape: Shape of the images\n",
    "    : return: Tensor for image input.\n",
    "    \"\"\"\n",
    "    # TODO: Implement Function\n",
    "    final_shape = list(image_shape)\n",
    "    final_shape.insert(0, None)\n",
    "    return tf.placeholder(tf.float32, shape=final_shape, name=\"x\")\n",
    "\n",
    "\n",
    "def neural_net_label_input(n_classes):\n",
    "    \"\"\"\n",
    "    Return a Tensor for a batch of label input\n",
    "    : n_classes: Number of classes\n",
    "    : return: Tensor for label input.\n",
    "    \"\"\"\n",
    "    # TODO: Implement Function\n",
    "    return tf.placeholder(tf.float32, shape=(None, n_classes), name=\"y\")\n",
    "\n",
    "\n",
    "def neural_net_keep_prob_input():\n",
    "    \"\"\"\n",
    "    Return a Tensor for keep probability\n",
    "    : return: Tensor for keep probability.\n",
    "    \"\"\"\n",
    "    # TODO: Implement Function\n",
    "    return tf.placeholder(tf.float32, name=\"keep_prob\")\n",
    "\n",
    "\n",
    "\"\"\"\n",
    "DON'T MODIFY ANYTHING IN THIS CELL THAT IS BELOW THIS LINE\n",
    "\"\"\"\n",
    "tf.reset_default_graph()\n",
    "tests.test_nn_image_inputs(neural_net_image_input)\n",
    "tests.test_nn_label_inputs(neural_net_label_input)\n",
    "tests.test_nn_keep_prob_inputs(neural_net_keep_prob_input)"
   ]
  },
  {
   "cell_type": "markdown",
   "metadata": {},
   "source": [
    "### Convolution and Max Pooling Layer\n",
    "Convolution layers have a lot of success with images. For this code cell, you should implement the function `conv2d_maxpool` to apply convolution then max pooling:\n",
    "* Create the weight and bias using `conv_ksize`, `conv_num_outputs` and the shape of `x_tensor`.\n",
    "* Apply a convolution to `x_tensor` using weight and `conv_strides`.\n",
    " * We recommend you use same padding, but you're welcome to use any padding.\n",
    "* Add bias\n",
    "* Add a nonlinear activation to the convolution.\n",
    "* Apply Max Pooling using `pool_ksize` and `pool_strides`.\n",
    " * We recommend you use same padding, but you're welcome to use any padding.\n",
    "\n",
    "**Note:** You **can't** use [TensorFlow Layers](https://www.tensorflow.org/api_docs/python/tf/layers) or [TensorFlow Layers (contrib)](https://www.tensorflow.org/api_guides/python/contrib.layers) for **this** layer, but you can still use TensorFlow's [Neural Network](https://www.tensorflow.org/api_docs/python/tf/nn) package. You may still use the shortcut option for all the **other** layers."
   ]
  },
  {
   "cell_type": "code",
   "execution_count": 27,
   "metadata": {},
   "outputs": [
    {
     "name": "stdout",
     "output_type": "stream",
     "text": [
      "Tests Passed\n"
     ]
    }
   ],
   "source": [
    "def conv2d_maxpool(x_tensor, conv_num_outputs, conv_ksize, conv_strides, pool_ksize, pool_strides, debug=False):\n",
    "    \"\"\"\n",
    "    Apply convolution then max pooling to x_tensor\n",
    "    :param x_tensor: TensorFlow Tensor\n",
    "    :param conv_num_outputs: Number of outputs for the convolutional layer\n",
    "    :param conv_ksize: kernal size 2-D Tuple for the convolutional layer\n",
    "    :param conv_strides: Stride 2-D Tuple for convolution\n",
    "    :param pool_ksize: kernal size 2-D Tuple for pool\n",
    "    :param pool_strides: Stride 2-D Tuple for pool\n",
    "    : return: A tensor that represents convolution and max pooling of x_tensor\n",
    "    \"\"\"\n",
    "    \n",
    "    patch_h = conv_ksize[0]       # Patch height\n",
    "    patch_w = conv_ksize[1]       # Patch width\n",
    "    input_d = int(x_tensor.shape[3])  # Input depth\n",
    "    output_d = conv_num_outputs   # Output depth\n",
    "    \n",
    "    \n",
    "    final_strides = [1] + list(conv_strides) + [1]\n",
    "    final_pool_ksize = [1] + list(pool_ksize) + [1]\n",
    "    final_pool_strides = [1] + list(pool_strides) + [1]\n",
    "    \n",
    "    \n",
    "    \n",
    "    \n",
    "    weights = tf.Variable(tf.truncated_normal([patch_h, patch_w, input_d, output_d], #[patch_h, patch_w, input_d, output_d]\n",
    "                                              mean=0.0, \n",
    "                                              stddev=0.1))\n",
    "    #print(\"Weights done\")\n",
    "    bias = tf.Variable(tf.zeros(conv_num_outputs))\n",
    "    #print(\"Zeros done done\")\n",
    "    # TODO: Implement Function\n",
    "    convolution_layer = tf.nn.conv2d(x_tensor, # Entry tensor (3 dimensions, HxWxD)\n",
    "                         weights,              # Patch size ~ Weights, determine the path size and the output dim\n",
    "                         final_strides,        # Patch stride movement (2 dim) (4 internally, tf details)\n",
    "                         \"SAME\")               # Padding set to \"SAME\" so size of output is same as of input\n",
    "    #print(\"Convolution done\")\n",
    "    convolution_layer = tf.add(convolution_layer, bias)   # Repeat with me, always, always add the bias\n",
    "    #print(\"Bias add done\")\n",
    "    convolution_layer = tf.nn.relu(convolution_layer)     # ReLU for non linearity\n",
    "    #print(\"Relu done\")\n",
    "    convolution_layer = tf.nn.max_pool(convolution_layer,   # Input \n",
    "                                       final_pool_ksize,    # Pool size\n",
    "                                       final_pool_strides,  # Pool strides\n",
    "                                       \"SAME\")              # Padding set to \"SAME\"\n",
    "    \n",
    "    #print(\"Max-pool done\")\n",
    "    if debug:\n",
    "        print(\"Patch size %dx%d\" % (patch_h, patch_w))\n",
    "        print(\"Input depth %d\" % input_d)\n",
    "        print(\"Output depth %d\" % output_d)\n",
    "        print(\"Convolution strides %s, final strides %s\" % (str(conv_strides), str(final_strides)))\n",
    "        print(\"Pool size %s, final pool size %s\" % (str(pool_ksize), str(final_pool_ksize)))\n",
    "        print(\"Pool strides %s, final pool strides %s\" % (str(pool_strides), str(final_pool_strides)))\n",
    "        print(\"Output shape %s\" % convolution_layer.shape)\n",
    "    return convolution_layer\n",
    "\n",
    "\n",
    "\"\"\"\n",
    "DON'T MODIFY ANYTHING IN THIS CELL THAT IS BELOW THIS LINE\n",
    "\"\"\"\n",
    "tests.test_con_pool(conv2d_maxpool)"
   ]
  },
  {
   "cell_type": "markdown",
   "metadata": {},
   "source": [
    "### Flatten Layer\n",
    "Implement the `flatten` function to change the dimension of `x_tensor` from a 4-D tensor to a 2-D tensor.  The output should be the shape (*Batch Size*, *Flattened Image Size*). Shortcut option: you can use classes from the [TensorFlow Layers](https://www.tensorflow.org/api_docs/python/tf/layers) or [TensorFlow Layers (contrib)](https://www.tensorflow.org/api_guides/python/contrib.layers) packages for this layer. For more of a challenge, only use other TensorFlow packages."
   ]
  },
  {
   "cell_type": "code",
   "execution_count": 28,
   "metadata": {},
   "outputs": [
    {
     "name": "stdout",
     "output_type": "stream",
     "text": [
      "Tests Passed\n"
     ]
    }
   ],
   "source": [
    "def flatten(x_tensor):\n",
    "    \"\"\"\n",
    "    Flatten x_tensor to (Batch Size, Flattened Image Size)\n",
    "    : x_tensor: A tensor of size (Batch Size, ...), where ... are the image dimensions.\n",
    "    : return: A tensor of size (Batch Size, Flattened Image Size).\n",
    "    \"\"\"\n",
    "    # TODO: Implement Function\n",
    "    batch_size = x_tensor.shape[0]\n",
    "    height = int(x_tensor.shape[1])\n",
    "    width = int(x_tensor.shape[2])\n",
    "    depth = int(x_tensor.shape[3])\n",
    "    \n",
    "    #print(x_tensor.shape)\n",
    "    #print(\"%dx%dx%d\" % (height, width, depth))\n",
    "    # From tf docs\n",
    "    # If one component of shape is the special value -1, the size of that dimension is computed so \n",
    "    # that the total size remains constant. In particular, a shape of [-1] flattens into 1-D. \n",
    "    # At most one component of shape can be -1.\n",
    "    output = tf.reshape(x_tensor, (-1, height*width*depth)) \n",
    "    return output\n",
    "\n",
    "\n",
    "\"\"\"\n",
    "DON'T MODIFY ANYTHING IN THIS CELL THAT IS BELOW THIS LINE\n",
    "\"\"\"\n",
    "tests.test_flatten(flatten)"
   ]
  },
  {
   "cell_type": "markdown",
   "metadata": {},
   "source": [
    "### Fully-Connected Layer\n",
    "Implement the `fully_conn` function to apply a fully connected layer to `x_tensor` with the shape (*Batch Size*, *num_outputs*). Shortcut option: you can use classes from the [TensorFlow Layers](https://www.tensorflow.org/api_docs/python/tf/layers) or [TensorFlow Layers (contrib)](https://www.tensorflow.org/api_guides/python/contrib.layers) packages for this layer. For more of a challenge, only use other TensorFlow packages."
   ]
  },
  {
   "cell_type": "code",
   "execution_count": 29,
   "metadata": {},
   "outputs": [
    {
     "name": "stdout",
     "output_type": "stream",
     "text": [
      "Tests Passed\n"
     ]
    }
   ],
   "source": [
    "def fully_conn(x_tensor, num_outputs):\n",
    "    \"\"\"\n",
    "    Apply a fully connected layer to x_tensor using weight and bias\n",
    "    : x_tensor: A 2-D tensor where the first dimension is batch size.\n",
    "    : num_outputs: The number of output that the new tensor should be.\n",
    "    : return: A 2-D tensor where the second dimension is num_outputs.\n",
    "    \"\"\"\n",
    "    # X tensor has dim => batch_size x features\n",
    "    # We want an output of => batch_size x num_outputs\n",
    "    # So we need to construct the weithgs so that X x W = batch_size x num_outputs\n",
    "    # So, the only way to do that is to have weights = feature x num_outputs\n",
    "    features = int(x_tensor.shape[1])\n",
    "    \n",
    "    weights = tf.Variable(tf.truncated_normal([features, num_outputs], mean=0.0, stddev=0.1))\n",
    "    bias = tf.zeros(num_outputs)\n",
    "    \n",
    "    output = tf.add(tf.matmul(x_tensor, weights), bias)\n",
    "    output = tf.nn.relu(output)  # TODO MORIANO not sure if this is required, i would assume so...\n",
    "    # TODO: Implement Function\n",
    "    return output\n",
    "\n",
    "\n",
    "\"\"\"\n",
    "DON'T MODIFY ANYTHING IN THIS CELL THAT IS BELOW THIS LINE\n",
    "\"\"\"\n",
    "tests.test_fully_conn(fully_conn)"
   ]
  },
  {
   "cell_type": "markdown",
   "metadata": {},
   "source": [
    "### Output Layer\n",
    "Implement the `output` function to apply a fully connected layer to `x_tensor` with the shape (*Batch Size*, *num_outputs*). Shortcut option: you can use classes from the [TensorFlow Layers](https://www.tensorflow.org/api_docs/python/tf/layers) or [TensorFlow Layers (contrib)](https://www.tensorflow.org/api_guides/python/contrib.layers) packages for this layer. For more of a challenge, only use other TensorFlow packages.\n",
    "\n",
    "**Note:** Activation, softmax, or cross entropy should **not** be applied to this."
   ]
  },
  {
   "cell_type": "code",
   "execution_count": 30,
   "metadata": {},
   "outputs": [
    {
     "name": "stdout",
     "output_type": "stream",
     "text": [
      "Tests Passed\n"
     ]
    }
   ],
   "source": [
    "def output(x_tensor, num_outputs):\n",
    "    \"\"\"\n",
    "    Apply a output layer to x_tensor using weight and bias\n",
    "    : x_tensor: A 2-D tensor where the first dimension is batch size.\n",
    "    : num_outputs: The number of output that the new tensor should be.\n",
    "    : return: A 2-D tensor where the second dimension is num_outputs.\n",
    "    \"\"\"\n",
    "    # TODO: Implement Function\n",
    "    # X tensor has dim => batch_size x features\n",
    "    # We want an output of => batch_size x num_outputs\n",
    "    # So we need to construct the weithgs so that X x W = batch_size x num_outputs\n",
    "    # So, the only way to do that is to have weights = feature x num_outputs\n",
    "    features = int(x_tensor.shape[1])\n",
    "    \n",
    "    weights = tf.Variable(tf.truncated_normal([features, num_outputs], mean=0.0, stddev=0.1))\n",
    "    bias = tf.zeros(num_outputs)\n",
    "    \n",
    "    output = tf.add(tf.matmul(x_tensor, weights), bias)\n",
    "    return output\n",
    "\n",
    "\n",
    "\"\"\"\n",
    "DON'T MODIFY ANYTHING IN THIS CELL THAT IS BELOW THIS LINE\n",
    "\"\"\"\n",
    "tests.test_output(output)"
   ]
  },
  {
   "cell_type": "markdown",
   "metadata": {},
   "source": [
    "### Create Convolutional Model\n",
    "Implement the function `conv_net` to create a convolutional neural network model. The function takes in a batch of images, `x`, and outputs logits.  Use the layers you created above to create this model:\n",
    "\n",
    "* Apply 1, 2, or 3 Convolution and Max Pool layers\n",
    "* Apply a Flatten Layer\n",
    "* Apply 1, 2, or 3 Fully Connected Layers\n",
    "* Apply an Output Layer\n",
    "* Return the output\n",
    "* Apply [TensorFlow's Dropout](https://www.tensorflow.org/api_docs/python/tf/nn/dropout) to one or more layers in the model using `keep_prob`. "
   ]
  },
  {
   "cell_type": "code",
   "execution_count": 31,
   "metadata": {
    "scrolled": false
   },
   "outputs": [
    {
     "name": "stdout",
     "output_type": "stream",
     "text": [
      "(?, 32, 32, 3)\n",
      "Patch size 3x3\n",
      "Input depth 3\n",
      "Output depth 8\n",
      "Convolution strides (1, 1), final strides [1, 1, 1, 1]\n",
      "Pool size (3, 3), final pool size [1, 3, 3, 1]\n",
      "Pool strides (2, 2), final pool strides [1, 2, 2, 1]\n",
      "Output shape (?, 16, 16, 8)\n",
      "Patch size 2x2\n",
      "Input depth 8\n",
      "Output depth 16\n",
      "Convolution strides (1, 1), final strides [1, 1, 1, 1]\n",
      "Pool size (2, 2), final pool size [1, 2, 2, 1]\n",
      "Pool strides (2, 2), final pool strides [1, 2, 2, 1]\n",
      "Output shape (?, 8, 8, 16)\n",
      "Flatten done\n",
      "(?, 1024)\n",
      "(?, 1024)\n",
      "(?, 512)\n",
      "(?, 10)\n",
      "(?, 32, 32, 3)\n",
      "Patch size 3x3\n",
      "Input depth 3\n",
      "Output depth 8\n",
      "Convolution strides (1, 1), final strides [1, 1, 1, 1]\n",
      "Pool size (3, 3), final pool size [1, 3, 3, 1]\n",
      "Pool strides (2, 2), final pool strides [1, 2, 2, 1]\n",
      "Output shape (?, 16, 16, 8)\n",
      "Patch size 2x2\n",
      "Input depth 8\n",
      "Output depth 16\n",
      "Convolution strides (1, 1), final strides [1, 1, 1, 1]\n",
      "Pool size (2, 2), final pool size [1, 2, 2, 1]\n",
      "Pool strides (2, 2), final pool strides [1, 2, 2, 1]\n",
      "Output shape (?, 8, 8, 16)\n",
      "Flatten done\n",
      "(?, 1024)\n",
      "(?, 1024)\n",
      "(?, 512)\n",
      "(?, 10)\n",
      "Neural Network Built!\n"
     ]
    }
   ],
   "source": [
    "def conv_net(x, keep_prob):\n",
    "    \"\"\"\n",
    "    Create a convolutional neural network model\n",
    "    : x: Placeholder tensor that holds image data.\n",
    "    : keep_prob: Placeholder tensor that hold dropout keep probability.\n",
    "    : return: Tensor that represents logits\n",
    "    \"\"\"\n",
    "    \n",
    "    \n",
    "    # TODO: Apply 1, 2, or 3 Convolution and Max Pool layers\n",
    "    #    Play around with different number of outputs, kernel size and stride\n",
    "    # Function Definition from Above:\n",
    "    #    conv2d_maxpool(x_tensor, conv_num_outputs, conv_ksize, conv_strides, pool_ksize, pool_strides)\n",
    "    \"\"\"\n",
    "    :param x_tensor: TensorFlow Tensor\n",
    "    :param conv_num_outputs: Number of outputs for the convolutional layer\n",
    "    :param conv_ksize: kernal size 2-D Tuple for the convolutional layer\n",
    "    :param conv_strides: Stride 2-D Tuple for convolution\n",
    "    :param pool_ksize: kernal size 2-D Tuple for pool\n",
    "    :param pool_strides: Stride 2-D Tuple for pool\n",
    "    : return: A tensor that represents convolution and max pooling of x_tensor\n",
    "    \"\"\"\n",
    "    print(x.shape)\n",
    "    x = conv2d_maxpool(    x,      # Input \n",
    "                           8,      # Output depth\n",
    "                           (3, 3),  # Patch size\n",
    "                           (1, 1),  # Strides\n",
    "                           (3, 3), # Patch size for pool\n",
    "                           (2, 2), # Strides for pool)\n",
    "                           debug=True\n",
    "                      )\n",
    "    x = tf.nn.dropout(x, keep_prob)\n",
    "    x = conv2d_maxpool(    x,      # Input \n",
    "                           16,      # Output depth\n",
    "                           (2, 2),  # Patch size\n",
    "                           (1, 1),  # Strides\n",
    "                           (2, 2), # Patch size for pool\n",
    "                           (2, 2), # Strides for pool)\n",
    "                           debug=True\n",
    "                      )\n",
    "    \n",
    "    x = tf.nn.dropout(x, keep_prob)\n",
    "    \n",
    "    \n",
    "    # TODO: Apply a Flatten Layer\n",
    "    # Function Definition from Above:\n",
    "    #   flatten(x_tensor)\n",
    "    x = flatten(x)\n",
    "    print(\"Flatten done\")\n",
    "    print(x.shape)\n",
    "\n",
    "    # TODO: Apply 1, 2, or 3 Fully Connected Layers\n",
    "    #    Play around with different number of outputs\n",
    "    # Function Definition from Above:\n",
    "    #   fully_conn(x_tensor, num_outputs)\n",
    "    x = fully_conn(x, 1024)\n",
    "    print(x.shape)\n",
    "    \n",
    "    x = fully_conn(x, 512)\n",
    "    print(x.shape)\n",
    "    \n",
    "    # TODO: Apply an Output Layer\n",
    "    #    Set this to the number of classes\n",
    "    # Function Definition from Above:\n",
    "    results = output(x, 10)\n",
    "    print(results.shape)\n",
    "    \n",
    "    # TODO: return output\n",
    "    return results\n",
    "\n",
    "\n",
    "\"\"\"\n",
    "DON'T MODIFY ANYTHING IN THIS CELL THAT IS BELOW THIS LINE\n",
    "\"\"\"\n",
    "\n",
    "##############################\n",
    "## Build the Neural Network ##\n",
    "##############################\n",
    "\n",
    "# Remove previous weights, bias, inputs, etc..\n",
    "tf.reset_default_graph()\n",
    "\n",
    "# Inputs\n",
    "x = neural_net_image_input((32, 32, 3))\n",
    "y = neural_net_label_input(10)\n",
    "keep_prob = neural_net_keep_prob_input()\n",
    "\n",
    "# Model\n",
    "logits = conv_net(x, keep_prob)\n",
    "\n",
    "# Name logits Tensor, so that is can be loaded from disk after training\n",
    "logits = tf.identity(logits, name='logits')\n",
    "\n",
    "# Loss and Optimizer\n",
    "cost = tf.reduce_mean(tf.nn.softmax_cross_entropy_with_logits(logits=logits, labels=y))\n",
    "optimizer = tf.train.AdamOptimizer().minimize(cost)\n",
    "\n",
    "# Accuracy\n",
    "correct_pred = tf.equal(tf.argmax(logits, 1), tf.argmax(y, 1))\n",
    "accuracy = tf.reduce_mean(tf.cast(correct_pred, tf.float32), name='accuracy')\n",
    "\n",
    "tests.test_conv_net(conv_net)"
   ]
  },
  {
   "cell_type": "markdown",
   "metadata": {},
   "source": [
    "## Train the Neural Network\n",
    "### Single Optimization\n",
    "Implement the function `train_neural_network` to do a single optimization.  The optimization should use `optimizer` to optimize in `session` with a `feed_dict` of the following:\n",
    "* `x` for image input\n",
    "* `y` for labels\n",
    "* `keep_prob` for keep probability for dropout\n",
    "\n",
    "This function will be called for each batch, so `tf.global_variables_initializer()` has already been called.\n",
    "\n",
    "Note: Nothing needs to be returned. This function is only optimizing the neural network."
   ]
  },
  {
   "cell_type": "code",
   "execution_count": 32,
   "metadata": {},
   "outputs": [
    {
     "name": "stdout",
     "output_type": "stream",
     "text": [
      "Tests Passed\n"
     ]
    }
   ],
   "source": [
    "def train_neural_network(session, optimizer, keep_probability, feature_batch, label_batch):\n",
    "    \"\"\"\n",
    "    Optimize the session on a batch of images and labels\n",
    "    : session: Current TensorFlow session\n",
    "    : optimizer: TensorFlow optimizer function\n",
    "    : keep_probability: keep probability\n",
    "    : feature_batch: Batch of Numpy image data\n",
    "    : label_batch: Batch of Numpy label data\n",
    "    \"\"\"\n",
    "    data = {\n",
    "        x: feature_batch,\n",
    "        y: label_batch,\n",
    "        keep_prob: keep_probability\n",
    "    }\n",
    "    session.run(optimizer, feed_dict=data)\n",
    "    # TODO: Implement Function\n",
    "    \n",
    "\n",
    "\n",
    "\"\"\"\n",
    "DON'T MODIFY ANYTHING IN THIS CELL THAT IS BELOW THIS LINE\n",
    "\"\"\"\n",
    "tests.test_train_nn(train_neural_network)"
   ]
  },
  {
   "cell_type": "markdown",
   "metadata": {},
   "source": [
    "### Show Stats\n",
    "Implement the function `print_stats` to print loss and validation accuracy.  Use the global variables `valid_features` and `valid_labels` to calculate validation accuracy.  Use a keep probability of `1.0` to calculate the loss and validation accuracy."
   ]
  },
  {
   "cell_type": "code",
   "execution_count": 33,
   "metadata": {
    "collapsed": true
   },
   "outputs": [],
   "source": [
    "def print_stats(session, feature_batch, label_batch, cost, accuracy):\n",
    "    \"\"\"\n",
    "    Print information about loss and validation accuracy\n",
    "    : session: Current TensorFlow session\n",
    "    : feature_batch: Batch of Numpy image data\n",
    "    : label_batch: Batch of Numpy label data\n",
    "    : cost: TensorFlow cost function\n",
    "    : accuracy: TensorFlow accuracy function\n",
    "    \"\"\"\n",
    "    # TODO MORIANO ==> I really need to understand why this works!!!\n",
    "    loss = session.run(cost, feed_dict={x: feature_batch, y: label_batch, keep_prob: 1.})\n",
    "    valid_acc = session.run(accuracy, feed_dict={\n",
    "        x: valid_features,\n",
    "        y: valid_labels,\n",
    "        keep_prob: 1.})\n",
    "    \n",
    "    \n",
    "    \n",
    "   \n",
    "    print(\"Cost %.3f | Accuracy %.3f\" % (loss, valid_acc))\n",
    "    \n",
    "    "
   ]
  },
  {
   "cell_type": "markdown",
   "metadata": {},
   "source": [
    "### Hyperparameters\n",
    "Tune the following parameters:\n",
    "* Set `epochs` to the number of iterations until the network stops learning or start overfitting\n",
    "* Set `batch_size` to the highest number that your machine has memory for.  Most people set them to common sizes of memory:\n",
    " * 64\n",
    " * 128\n",
    " * 256\n",
    " * ...\n",
    "* Set `keep_probability` to the probability of keeping a node using dropout"
   ]
  },
  {
   "cell_type": "code",
   "execution_count": 34,
   "metadata": {
    "collapsed": true
   },
   "outputs": [],
   "source": [
    "# TODO: Tune Parameters\n",
    "epochs = 25\n",
    "batch_size = 512\n",
    "keep_probability = 0.7"
   ]
  },
  {
   "cell_type": "markdown",
   "metadata": {},
   "source": [
    "### Train on a Single CIFAR-10 Batch\n",
    "Instead of training the neural network on all the CIFAR-10 batches of data, let's use a single batch. This should save time while you iterate on the model to get a better accuracy.  Once the final validation accuracy is 50% or greater, run the model on all the data in the next section."
   ]
  },
  {
   "cell_type": "code",
   "execution_count": 35,
   "metadata": {},
   "outputs": [
    {
     "name": "stdout",
     "output_type": "stream",
     "text": [
      "Checking the Training on a Single Batch...\n",
      "Epoch  1, CIFAR-10 Batch 1:  Cost 2.014 | Accuracy 0.299\n",
      "Epoch  2, CIFAR-10 Batch 1:  Cost 1.782 | Accuracy 0.370\n",
      "Epoch  3, CIFAR-10 Batch 1:  Cost 1.674 | Accuracy 0.411\n",
      "Epoch  4, CIFAR-10 Batch 1:  Cost 1.576 | Accuracy 0.437\n",
      "Epoch  5, CIFAR-10 Batch 1:  Cost 1.524 | Accuracy 0.454\n",
      "Epoch  6, CIFAR-10 Batch 1:  Cost 1.475 | Accuracy 0.468\n",
      "Epoch  7, CIFAR-10 Batch 1:  Cost 1.415 | Accuracy 0.481\n",
      "Epoch  8, CIFAR-10 Batch 1:  Cost 1.351 | Accuracy 0.499\n",
      "Epoch  9, CIFAR-10 Batch 1:  Cost 1.318 | Accuracy 0.499\n",
      "Epoch 10, CIFAR-10 Batch 1:  Cost 1.268 | Accuracy 0.512\n",
      "Epoch 11, CIFAR-10 Batch 1:  Cost 1.244 | Accuracy 0.521\n",
      "Epoch 12, CIFAR-10 Batch 1:  Cost 1.217 | Accuracy 0.524\n",
      "Epoch 13, CIFAR-10 Batch 1:  Cost 1.175 | Accuracy 0.531\n",
      "Epoch 14, CIFAR-10 Batch 1:  Cost 1.143 | Accuracy 0.537\n",
      "Epoch 15, CIFAR-10 Batch 1:  Cost 1.113 | Accuracy 0.538\n",
      "Epoch 16, CIFAR-10 Batch 1:  Cost 1.094 | Accuracy 0.539\n",
      "Epoch 17, CIFAR-10 Batch 1:  Cost 1.054 | Accuracy 0.539\n",
      "Epoch 18, CIFAR-10 Batch 1:  Cost 1.009 | Accuracy 0.550\n",
      "Epoch 19, CIFAR-10 Batch 1:  Cost 0.966 | Accuracy 0.555\n",
      "Epoch 20, CIFAR-10 Batch 1:  Cost 0.953 | Accuracy 0.553\n",
      "Epoch 21, CIFAR-10 Batch 1:  Cost 0.914 | Accuracy 0.556\n",
      "Epoch 22, CIFAR-10 Batch 1:  Cost 0.886 | Accuracy 0.558\n",
      "Epoch 23, CIFAR-10 Batch 1:  Cost 0.852 | Accuracy 0.566\n",
      "Epoch 24, CIFAR-10 Batch 1:  Cost 0.805 | Accuracy 0.576\n",
      "Epoch 25, CIFAR-10 Batch 1:  Cost 0.791 | Accuracy 0.569\n"
     ]
    }
   ],
   "source": [
    "\"\"\"\n",
    "DON'T MODIFY ANYTHING IN THIS CELL\n",
    "\"\"\"\n",
    "print('Checking the Training on a Single Batch...')\n",
    "with tf.Session() as sess:\n",
    "    # Initializing the variables\n",
    "    sess.run(tf.global_variables_initializer())\n",
    "    \n",
    "    # Training cycle\n",
    "    for epoch in range(epochs):\n",
    "        batch_i = 1\n",
    "        for batch_features, batch_labels in helper.load_preprocess_training_batch(batch_i, batch_size):\n",
    "            train_neural_network(sess, optimizer, keep_probability, batch_features, batch_labels)\n",
    "        print('Epoch {:>2}, CIFAR-10 Batch {}:  '.format(epoch + 1, batch_i), end='')\n",
    "        print_stats(sess, batch_features, batch_labels, cost, accuracy)"
   ]
  },
  {
   "cell_type": "markdown",
   "metadata": {},
   "source": [
    "### Fully Train the Model\n",
    "Now that you got a good accuracy with a single CIFAR-10 batch, try it with all five batches."
   ]
  },
  {
   "cell_type": "code",
   "execution_count": 39,
   "metadata": {},
   "outputs": [
    {
     "name": "stdout",
     "output_type": "stream",
     "text": [
      "Training...\n",
      "Epoch  1, CIFAR-10 Batch 1:  Cost 2.233 | Accuracy 0.217\n",
      "Epoch  1, CIFAR-10 Batch 2:  Cost 1.984 | Accuracy 0.291\n",
      "Epoch  1, CIFAR-10 Batch 3:  Cost 1.833 | Accuracy 0.333\n",
      "Epoch  1, CIFAR-10 Batch 4:  Cost 1.708 | Accuracy 0.389\n",
      "Epoch  1, CIFAR-10 Batch 5:  Cost 1.726 | Accuracy 0.397\n",
      "Epoch  2, CIFAR-10 Batch 1:  Cost 1.728 | Accuracy 0.433\n",
      "Epoch  2, CIFAR-10 Batch 2:  Cost 1.591 | Accuracy 0.429\n",
      "Epoch  2, CIFAR-10 Batch 3:  Cost 1.507 | Accuracy 0.423\n",
      "Epoch  2, CIFAR-10 Batch 4:  Cost 1.464 | Accuracy 0.456\n",
      "Epoch  2, CIFAR-10 Batch 5:  Cost 1.504 | Accuracy 0.464\n",
      "Epoch  3, CIFAR-10 Batch 1:  Cost 1.548 | Accuracy 0.479\n",
      "Epoch  3, CIFAR-10 Batch 2:  Cost 1.423 | Accuracy 0.476\n",
      "Epoch  3, CIFAR-10 Batch 3:  Cost 1.348 | Accuracy 0.483\n",
      "Epoch  3, CIFAR-10 Batch 4:  Cost 1.368 | Accuracy 0.478\n",
      "Epoch  3, CIFAR-10 Batch 5:  Cost 1.413 | Accuracy 0.503\n",
      "Epoch  4, CIFAR-10 Batch 1:  Cost 1.466 | Accuracy 0.507\n",
      "Epoch  4, CIFAR-10 Batch 2:  Cost 1.370 | Accuracy 0.492\n",
      "Epoch  4, CIFAR-10 Batch 3:  Cost 1.233 | Accuracy 0.513\n",
      "Epoch  4, CIFAR-10 Batch 4:  Cost 1.287 | Accuracy 0.514\n",
      "Epoch  4, CIFAR-10 Batch 5:  Cost 1.315 | Accuracy 0.528\n",
      "Epoch  5, CIFAR-10 Batch 1:  Cost 1.395 | Accuracy 0.524\n",
      "Epoch  5, CIFAR-10 Batch 2:  Cost 1.291 | Accuracy 0.515\n",
      "Epoch  5, CIFAR-10 Batch 3:  Cost 1.200 | Accuracy 0.533\n",
      "Epoch  5, CIFAR-10 Batch 4:  Cost 1.202 | Accuracy 0.536\n",
      "Epoch  5, CIFAR-10 Batch 5:  Cost 1.225 | Accuracy 0.550\n",
      "Epoch  6, CIFAR-10 Batch 1:  Cost 1.321 | Accuracy 0.555\n",
      "Epoch  6, CIFAR-10 Batch 2:  Cost 1.214 | Accuracy 0.542\n",
      "Epoch  6, CIFAR-10 Batch 3:  Cost 1.122 | Accuracy 0.549\n",
      "Epoch  6, CIFAR-10 Batch 4:  Cost 1.138 | Accuracy 0.557\n",
      "Epoch  6, CIFAR-10 Batch 5:  Cost 1.150 | Accuracy 0.562\n",
      "Epoch  7, CIFAR-10 Batch 1:  Cost 1.267 | Accuracy 0.564\n",
      "Epoch  7, CIFAR-10 Batch 2:  Cost 1.156 | Accuracy 0.558\n",
      "Epoch  7, CIFAR-10 Batch 3:  Cost 1.061 | Accuracy 0.561\n",
      "Epoch  7, CIFAR-10 Batch 4:  Cost 1.079 | Accuracy 0.570\n",
      "Epoch  7, CIFAR-10 Batch 5:  Cost 1.066 | Accuracy 0.583\n",
      "Epoch  8, CIFAR-10 Batch 1:  Cost 1.184 | Accuracy 0.586\n",
      "Epoch  8, CIFAR-10 Batch 2:  Cost 1.073 | Accuracy 0.578\n",
      "Epoch  8, CIFAR-10 Batch 3:  Cost 0.989 | Accuracy 0.579\n",
      "Epoch  8, CIFAR-10 Batch 4:  Cost 1.011 | Accuracy 0.595\n",
      "Epoch  8, CIFAR-10 Batch 5:  Cost 1.004 | Accuracy 0.592\n",
      "Epoch  9, CIFAR-10 Batch 1:  Cost 1.150 | Accuracy 0.592\n",
      "Epoch  9, CIFAR-10 Batch 2:  Cost 1.024 | Accuracy 0.595\n",
      "Epoch  9, CIFAR-10 Batch 3:  Cost 0.941 | Accuracy 0.590\n",
      "Epoch  9, CIFAR-10 Batch 4:  Cost 0.960 | Accuracy 0.599\n",
      "Epoch  9, CIFAR-10 Batch 5:  Cost 0.934 | Accuracy 0.603\n",
      "Epoch 10, CIFAR-10 Batch 1:  Cost 1.084 | Accuracy 0.605\n",
      "Epoch 10, CIFAR-10 Batch 2:  Cost 0.966 | Accuracy 0.609\n",
      "Epoch 10, CIFAR-10 Batch 3:  Cost 0.872 | Accuracy 0.601\n",
      "Epoch 10, CIFAR-10 Batch 4:  Cost 0.905 | Accuracy 0.617\n",
      "Epoch 10, CIFAR-10 Batch 5:  Cost 0.904 | Accuracy 0.607\n",
      "Epoch 11, CIFAR-10 Batch 1:  Cost 1.010 | Accuracy 0.617\n",
      "Epoch 11, CIFAR-10 Batch 2:  Cost 0.915 | Accuracy 0.624\n",
      "Epoch 11, CIFAR-10 Batch 3:  Cost 0.813 | Accuracy 0.612\n",
      "Epoch 11, CIFAR-10 Batch 4:  Cost 0.859 | Accuracy 0.618\n",
      "Epoch 11, CIFAR-10 Batch 5:  Cost 0.837 | Accuracy 0.620\n",
      "Epoch 12, CIFAR-10 Batch 1:  Cost 0.957 | Accuracy 0.615\n",
      "Epoch 12, CIFAR-10 Batch 2:  Cost 0.879 | Accuracy 0.626\n",
      "Epoch 12, CIFAR-10 Batch 3:  Cost 0.778 | Accuracy 0.627\n",
      "Epoch 12, CIFAR-10 Batch 4:  Cost 0.790 | Accuracy 0.634\n",
      "Epoch 12, CIFAR-10 Batch 5:  Cost 0.779 | Accuracy 0.640\n",
      "Epoch 13, CIFAR-10 Batch 1:  Cost 0.911 | Accuracy 0.623\n",
      "Epoch 13, CIFAR-10 Batch 2:  Cost 0.837 | Accuracy 0.636\n",
      "Epoch 13, CIFAR-10 Batch 3:  Cost 0.714 | Accuracy 0.635\n",
      "Epoch 13, CIFAR-10 Batch 4:  Cost 0.763 | Accuracy 0.638\n",
      "Epoch 13, CIFAR-10 Batch 5:  Cost 0.746 | Accuracy 0.633\n",
      "Epoch 14, CIFAR-10 Batch 1:  Cost 0.850 | Accuracy 0.631\n",
      "Epoch 14, CIFAR-10 Batch 2:  Cost 0.811 | Accuracy 0.640\n",
      "Epoch 14, CIFAR-10 Batch 3:  Cost 0.681 | Accuracy 0.639\n",
      "Epoch 14, CIFAR-10 Batch 4:  Cost 0.719 | Accuracy 0.645\n",
      "Epoch 14, CIFAR-10 Batch 5:  Cost 0.703 | Accuracy 0.642\n",
      "Epoch 15, CIFAR-10 Batch 1:  Cost 0.785 | Accuracy 0.643\n",
      "Epoch 15, CIFAR-10 Batch 2:  Cost 0.741 | Accuracy 0.649\n",
      "Epoch 15, CIFAR-10 Batch 3:  Cost 0.626 | Accuracy 0.645\n",
      "Epoch 15, CIFAR-10 Batch 4:  Cost 0.680 | Accuracy 0.655\n",
      "Epoch 15, CIFAR-10 Batch 5:  Cost 0.665 | Accuracy 0.644\n",
      "Epoch 16, CIFAR-10 Batch 1:  Cost 0.746 | Accuracy 0.650\n",
      "Epoch 16, CIFAR-10 Batch 2:  Cost 0.710 | Accuracy 0.652\n",
      "Epoch 16, CIFAR-10 Batch 3:  Cost 0.598 | Accuracy 0.652\n",
      "Epoch 16, CIFAR-10 Batch 4:  Cost 0.634 | Accuracy 0.654\n",
      "Epoch 16, CIFAR-10 Batch 5:  Cost 0.623 | Accuracy 0.653\n",
      "Epoch 17, CIFAR-10 Batch 1:  Cost 0.714 | Accuracy 0.658\n",
      "Epoch 17, CIFAR-10 Batch 2:  Cost 0.679 | Accuracy 0.660\n",
      "Epoch 17, CIFAR-10 Batch 3:  Cost 0.562 | Accuracy 0.658\n",
      "Epoch 17, CIFAR-10 Batch 4:  Cost 0.588 | Accuracy 0.661\n",
      "Epoch 17, CIFAR-10 Batch 5:  Cost 0.578 | Accuracy 0.661\n",
      "Epoch 18, CIFAR-10 Batch 1:  Cost 0.670 | Accuracy 0.654\n",
      "Epoch 18, CIFAR-10 Batch 2:  Cost 0.632 | Accuracy 0.671\n",
      "Epoch 18, CIFAR-10 Batch 3:  Cost 0.524 | Accuracy 0.660\n",
      "Epoch 18, CIFAR-10 Batch 4:  Cost 0.562 | Accuracy 0.666\n",
      "Epoch 18, CIFAR-10 Batch 5:  Cost 0.546 | Accuracy 0.662\n",
      "Epoch 19, CIFAR-10 Batch 1:  Cost 0.601 | Accuracy 0.665\n",
      "Epoch 19, CIFAR-10 Batch 2:  Cost 0.584 | Accuracy 0.678\n",
      "Epoch 19, CIFAR-10 Batch 3:  Cost 0.491 | Accuracy 0.669\n",
      "Epoch 19, CIFAR-10 Batch 4:  Cost 0.513 | Accuracy 0.675\n",
      "Epoch 19, CIFAR-10 Batch 5:  Cost 0.504 | Accuracy 0.668\n",
      "Epoch 20, CIFAR-10 Batch 1:  Cost 0.556 | Accuracy 0.674\n",
      "Epoch 20, CIFAR-10 Batch 2:  Cost 0.564 | Accuracy 0.683\n",
      "Epoch 20, CIFAR-10 Batch 3:  Cost 0.462 | Accuracy 0.674\n",
      "Epoch 20, CIFAR-10 Batch 4:  Cost 0.485 | Accuracy 0.681\n",
      "Epoch 20, CIFAR-10 Batch 5:  Cost 0.482 | Accuracy 0.668\n",
      "Epoch 21, CIFAR-10 Batch 1:  Cost 0.518 | Accuracy 0.676\n",
      "Epoch 21, CIFAR-10 Batch 2:  Cost 0.520 | Accuracy 0.689\n",
      "Epoch 21, CIFAR-10 Batch 3:  Cost 0.433 | Accuracy 0.677\n",
      "Epoch 21, CIFAR-10 Batch 4:  Cost 0.439 | Accuracy 0.681\n",
      "Epoch 21, CIFAR-10 Batch 5:  Cost 0.433 | Accuracy 0.674\n",
      "Epoch 22, CIFAR-10 Batch 1:  Cost 0.463 | Accuracy 0.684\n",
      "Epoch 22, CIFAR-10 Batch 2:  Cost 0.493 | Accuracy 0.674\n",
      "Epoch 22, CIFAR-10 Batch 3:  Cost 0.395 | Accuracy 0.683\n",
      "Epoch 22, CIFAR-10 Batch 4:  Cost 0.423 | Accuracy 0.679\n",
      "Epoch 22, CIFAR-10 Batch 5:  Cost 0.409 | Accuracy 0.677\n",
      "Epoch 23, CIFAR-10 Batch 1:  Cost 0.444 | Accuracy 0.681\n",
      "Epoch 23, CIFAR-10 Batch 2:  Cost 0.446 | Accuracy 0.685\n",
      "Epoch 23, CIFAR-10 Batch 3:  Cost 0.374 | Accuracy 0.684\n",
      "Epoch 23, CIFAR-10 Batch 4:  Cost 0.388 | Accuracy 0.683\n",
      "Epoch 23, CIFAR-10 Batch 5:  Cost 0.397 | Accuracy 0.670\n",
      "Epoch 24, CIFAR-10 Batch 1:  Cost 0.433 | Accuracy 0.671\n",
      "Epoch 24, CIFAR-10 Batch 2:  Cost 0.425 | Accuracy 0.682\n",
      "Epoch 24, CIFAR-10 Batch 3:  Cost 0.361 | Accuracy 0.682\n",
      "Epoch 24, CIFAR-10 Batch 4:  Cost 0.351 | Accuracy 0.682\n",
      "Epoch 24, CIFAR-10 Batch 5:  Cost 0.359 | Accuracy 0.679\n",
      "Epoch 25, CIFAR-10 Batch 1:  Cost 0.375 | Accuracy 0.680\n",
      "Epoch 25, CIFAR-10 Batch 2:  Cost 0.378 | Accuracy 0.684\n",
      "Epoch 25, CIFAR-10 Batch 3:  Cost 0.313 | Accuracy 0.686\n",
      "Epoch 25, CIFAR-10 Batch 4:  Cost 0.330 | Accuracy 0.680\n",
      "Epoch 25, CIFAR-10 Batch 5:  Cost 0.321 | Accuracy 0.681\n"
     ]
    }
   ],
   "source": [
    "\"\"\"\n",
    "DON'T MODIFY ANYTHING IN THIS CELL\n",
    "\"\"\"\n",
    "save_model_path = './image_classification'\n",
    "\n",
    "print('Training...')\n",
    "with tf.Session() as sess:\n",
    "    # Initializing the variables\n",
    "    sess.run(tf.global_variables_initializer())\n",
    "    \n",
    "    # Training cycle\n",
    "    for epoch in range(epochs):\n",
    "        # Loop over all batches\n",
    "        n_batches = 5\n",
    "        for batch_i in range(1, n_batches + 1):\n",
    "            for batch_features, batch_labels in helper.load_preprocess_training_batch(batch_i, batch_size):\n",
    "                train_neural_network(sess, optimizer, keep_probability, batch_features, batch_labels)\n",
    "            print('Epoch {:>2}, CIFAR-10 Batch {}:  '.format(epoch + 1, batch_i), end='')\n",
    "            print_stats(sess, batch_features, batch_labels, cost, accuracy)\n",
    "            \n",
    "    # Save Model\n",
    "    saver = tf.train.Saver()\n",
    "    save_path = saver.save(sess, save_model_path)"
   ]
  },
  {
   "cell_type": "markdown",
   "metadata": {},
   "source": [
    "# Checkpoint\n",
    "The model has been saved to disk.\n",
    "## Test Model\n",
    "Test your model against the test dataset.  This will be your final accuracy. You should have an accuracy greater than 50%. If you don't, keep tweaking the model architecture and parameters."
   ]
  },
  {
   "cell_type": "code",
   "execution_count": 40,
   "metadata": {},
   "outputs": [
    {
     "name": "stdout",
     "output_type": "stream",
     "text": [
      "INFO:tensorflow:Restoring parameters from ./image_classification\n",
      "Testing Accuracy: 0.6833295047283172\n",
      "\n"
     ]
    },
    {
     "data": {
      "image/png": "[encoded data removed]",
      "text/plain": [
       "<matplotlib.figure.Figure at 0x7f9458735ef0>"
      ]
     },
     "metadata": {
      "image/png": {
       "height": 319,
       "width": 355
      }
     },
     "output_type": "display_data"
    }
   ],
   "source": [
    "\"\"\"\n",
    "DON'T MODIFY ANYTHING IN THIS CELL\n",
    "\"\"\"\n",
    "%matplotlib inline\n",
    "%config InlineBackend.figure_format = 'retina'\n",
    "\n",
    "import tensorflow as tf\n",
    "import pickle\n",
    "import helper\n",
    "import random\n",
    "\n",
    "# Set batch size if not already set\n",
    "try:\n",
    "    if batch_size:\n",
    "        pass\n",
    "except NameError:\n",
    "    batch_size = 64\n",
    "\n",
    "save_model_path = './image_classification'\n",
    "n_samples = 4\n",
    "top_n_predictions = 3\n",
    "\n",
    "def test_model():\n",
    "    \"\"\"\n",
    "    Test the saved model against the test dataset\n",
    "    \"\"\"\n",
    "\n",
    "    test_features, test_labels = pickle.load(open('preprocess_test.p', mode='rb'))\n",
    "    loaded_graph = tf.Graph()\n",
    "\n",
    "    with tf.Session(graph=loaded_graph) as sess:\n",
    "        # Load model\n",
    "        loader = tf.train.import_meta_graph(save_model_path + '.meta')\n",
    "        loader.restore(sess, save_model_path)\n",
    "\n",
    "        # Get Tensors from loaded model\n",
    "        loaded_x = loaded_graph.get_tensor_by_name('x:0')\n",
    "        loaded_y = loaded_graph.get_tensor_by_name('y:0')\n",
    "        loaded_keep_prob = loaded_graph.get_tensor_by_name('keep_prob:0')\n",
    "        loaded_logits = loaded_graph.get_tensor_by_name('logits:0')\n",
    "        loaded_acc = loaded_graph.get_tensor_by_name('accuracy:0')\n",
    "        \n",
    "        # Get accuracy in batches for memory limitations\n",
    "        test_batch_acc_total = 0\n",
    "        test_batch_count = 0\n",
    "        \n",
    "        for test_feature_batch, test_label_batch in helper.batch_features_labels(test_features, test_labels, batch_size):\n",
    "            test_batch_acc_total += sess.run(\n",
    "                loaded_acc,\n",
    "                feed_dict={loaded_x: test_feature_batch, loaded_y: test_label_batch, loaded_keep_prob: 1.0})\n",
    "            test_batch_count += 1\n",
    "\n",
    "        print('Testing Accuracy: {}\\n'.format(test_batch_acc_total/test_batch_count))\n",
    "\n",
    "        # Print Random Samples\n",
    "        random_test_features, random_test_labels = tuple(zip(*random.sample(list(zip(test_features, test_labels)), n_samples)))\n",
    "        random_test_predictions = sess.run(\n",
    "            tf.nn.top_k(tf.nn.softmax(loaded_logits), top_n_predictions),\n",
    "            feed_dict={loaded_x: random_test_features, loaded_y: random_test_labels, loaded_keep_prob: 1.0})\n",
    "        helper.display_image_predictions(random_test_features, random_test_labels, random_test_predictions)\n",
    "\n",
    "\n",
    "test_model()"
   ]
  },
  {
   "cell_type": "markdown",
   "metadata": {},
   "source": [
    "## Why 50-80% Accuracy?\n",
    "You might be wondering why you can't get an accuracy any higher. First things first, 50% isn't bad for a simple CNN.  Pure guessing would get you 10% accuracy. However, you might notice people are getting scores [well above 80%](http://rodrigob.github.io/are_we_there_yet/build/classification_datasets_results.html#43494641522d3130).  That's because we haven't taught you all there is to know about neural networks. We still need to cover a few more techniques.\n",
    "## Submitting This Project\n",
    "When submitting this project, make sure to run all the cells before saving the notebook.  Save the notebook file as \"dlnd_image_classification.ipynb\" and save it as a HTML file under \"File\" -> \"Download as\".  Include the \"helper.py\" and \"problem_unittests.py\" files in your submission."
   ]
  }
 ],
 "metadata": {
  "kernelspec": {
   "display_name": "Python 3",
   "language": "python",
   "name": "python3"
  },
  "language_info": {
   "codemirror_mode": {
    "name": "ipython",
    "version": 3
   },
   "file_extension": ".py",
   "mimetype": "text/x-python",
   "name": "python",
   "nbconvert_exporter": "python",
   "pygments_lexer": "ipython3",
   "version": "3.5.3"
  }
 },
 "nbformat": 4,
 "nbformat_minor": 1
}
